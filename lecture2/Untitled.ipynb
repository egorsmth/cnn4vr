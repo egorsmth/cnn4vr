{
 "cells": [
  {
   "cell_type": "code",
   "execution_count": 3,
   "id": "785b7772-9f37-408b-a27f-3970550857ba",
   "metadata": {},
   "outputs": [],
   "source": [
    "import numpy as np\n",
    "import skimage as ski\n",
    "import matplotlib.pyplot as plt"
   ]
  },
  {
   "cell_type": "code",
   "execution_count": 4,
   "id": "5065b40c-1607-454a-b7fa-3223f3f55c3a",
   "metadata": {},
   "outputs": [],
   "source": [
    "def unpickle(file):\n",
    "    import pickle\n",
    "    with open(file, 'rb') as fo:\n",
    "        dict = pickle.load(fo, encoding='bytes')\n",
    "    return dict"
   ]
  },
  {
   "cell_type": "code",
   "execution_count": 6,
   "id": "af98b2eb-33d7-4b4f-a941-dfea09d3a6e8",
   "metadata": {},
   "outputs": [],
   "source": [
    "meta = unpickle('../data/cifar-10-batches-py/batches.meta')\n",
    "\n",
    "data_batch_1 = unpickle('../data/cifar-10-batches-py/data_batch_1')\n",
    "test_batch = unpickle('../data/cifar-10-batches-py/test_batch')"
   ]
  },
  {
   "cell_type": "code",
   "execution_count": 18,
   "id": "038985f1-1d19-4454-8d9d-b7e51ee331ca",
   "metadata": {},
   "outputs": [
    {
     "data": {
      "text/plain": [
       "np.uint8(255)"
      ]
     },
     "execution_count": 18,
     "metadata": {},
     "output_type": "execute_result"
    }
   ],
   "source": [
    "np.max(test_batch[b'data'][0])"
   ]
  },
  {
   "cell_type": "code",
   "execution_count": 120,
   "id": "80e7d333-2c72-436b-b6fc-58175e7b0e3d",
   "metadata": {},
   "outputs": [
    {
     "data": {
      "text/plain": [
       "array([[ 10, 239, 208, ..., 147,   4,  46],\n",
       "       [ 55, 137,  69, ..., 204, 142, 198],\n",
       "       [205, 185,  92, ..., 188,  29, 129],\n",
       "       ...,\n",
       "       [158,  69,  16, ..., 219,  81, 126],\n",
       "       [116,   8,  91, ...,  88, 194, 160],\n",
       "       [110,  98, 148, ...,   3, 165,  17]])"
      ]
     },
     "execution_count": 120,
     "metadata": {},
     "output_type": "execute_result"
    }
   ],
   "source": [
    "W = np.random.randint(0, 255, (10, 32 * 32 * 3))\n",
    "W"
   ]
  },
  {
   "cell_type": "code",
   "execution_count": 126,
   "id": "6f8fa23e-d6e6-49d3-95ee-976aaaaa4857",
   "metadata": {},
   "outputs": [
    {
     "name": "stdout",
     "output_type": "stream",
     "text": [
      "0 of 10000\n"
     ]
    },
    {
     "ename": "KeyboardInterrupt",
     "evalue": "",
     "output_type": "error",
     "traceback": [
      "\u001b[0;31m---------------------------------------------------------------------------\u001b[0m",
      "\u001b[0;31mKeyboardInterrupt\u001b[0m                         Traceback (most recent call last)",
      "Cell \u001b[0;32mIn[126], line 24\u001b[0m\n\u001b[1;32m     20\u001b[0m             \u001b[38;5;66;03m# print(L)\u001b[39;00m\n\u001b[1;32m     21\u001b[0m         \u001b[38;5;66;03m# print(L)\u001b[39;00m\n\u001b[1;32m     22\u001b[0m     \u001b[38;5;28;01mreturn\u001b[39;00m W\n\u001b[0;32m---> 24\u001b[0m WW \u001b[38;5;241m=\u001b[39m \u001b[43mtrain\u001b[49m\u001b[43m(\u001b[49m\u001b[43mW\u001b[49m\u001b[43m,\u001b[49m\u001b[43m \u001b[49m\u001b[43mdata_batch_1\u001b[49m\u001b[43m[\u001b[49m\u001b[38;5;124;43mb\u001b[39;49m\u001b[38;5;124;43m'\u001b[39;49m\u001b[38;5;124;43mdata\u001b[39;49m\u001b[38;5;124;43m'\u001b[39;49m\u001b[43m]\u001b[49m\u001b[43m,\u001b[49m\u001b[43m \u001b[49m\u001b[43mdata_batch_1\u001b[49m\u001b[43m[\u001b[49m\u001b[38;5;124;43mb\u001b[39;49m\u001b[38;5;124;43m'\u001b[39;49m\u001b[38;5;124;43mlabels\u001b[39;49m\u001b[38;5;124;43m'\u001b[39;49m\u001b[43m]\u001b[49m\u001b[43m,\u001b[49m\u001b[43m \u001b[49m\u001b[38;5;241;43m0.1\u001b[39;49m\u001b[43m)\u001b[49m\n",
      "Cell \u001b[0;32mIn[126], line 18\u001b[0m, in \u001b[0;36mtrain\u001b[0;34m(W, X, Y, eps)\u001b[0m\n\u001b[1;32m     16\u001b[0m         \u001b[38;5;28;01melse\u001b[39;00m:\n\u001b[1;32m     17\u001b[0m             W[j][r] \u001b[38;5;241m=\u001b[39m \u001b[38;5;28mmin\u001b[39m(\u001b[38;5;241m255\u001b[39m, W[j][r] \u001b[38;5;241m+\u001b[39m delta)\n\u001b[0;32m---> 18\u001b[0m     after \u001b[38;5;241m=\u001b[39m \u001b[43m(\u001b[49m\u001b[43mW\u001b[49m\u001b[38;5;241;43m/\u001b[39;49m\u001b[38;5;241;43m255\u001b[39;49m\u001b[43m)\u001b[49m\u001b[38;5;241;43m.\u001b[39;49m\u001b[43mdot\u001b[49m\u001b[43m(\u001b[49m\u001b[43mx\u001b[49m\u001b[43m)\u001b[49m\n\u001b[1;32m     19\u001b[0m     L \u001b[38;5;241m=\u001b[39m after[ind]\u001b[38;5;241m/\u001b[39m(np\u001b[38;5;241m.\u001b[39msum(np\u001b[38;5;241m.\u001b[39mconcatenate([after[:ind], after[ind:]])))\n\u001b[1;32m     20\u001b[0m     \u001b[38;5;66;03m# print(L)\u001b[39;00m\n\u001b[1;32m     21\u001b[0m \u001b[38;5;66;03m# print(L)\u001b[39;00m\n",
      "\u001b[0;31mKeyboardInterrupt\u001b[0m: "
     ]
    }
   ],
   "source": [
    "def train(W, X, Y, eps):\n",
    "    delta = 5\n",
    "    for i in range(X.shape[0]): \n",
    "        if i % 500 == 0:\n",
    "            print(f'{i} of {X.shape[0]}')\n",
    "        L = 100\n",
    "        while L > eps:\n",
    "            x = X[i]\n",
    "            res = (W/255).dot(x)\n",
    "            # print(res)\n",
    "            ind = Y[i]\n",
    "            for j in range(W.shape[0]):\n",
    "                r = np.random.randint(0, W.shape[1])\n",
    "                if (j != ind):\n",
    "                    W[j][r] = max(0, W[j][r] - delta)\n",
    "                else:\n",
    "                    W[j][r] = min(255, W[j][r] + delta)\n",
    "            after = (W/255).dot(x)\n",
    "            L = after[ind]/(np.sum(np.concatenate([after[:ind], after[ind:]])))\n",
    "            # print(L)\n",
    "        # print(L)\n",
    "    return W\n",
    "\n",
    "WW = train(W, data_batch_1[b'data'], data_batch_1[b'labels'], 0.1)"
   ]
  },
  {
   "cell_type": "code",
   "execution_count": 118,
   "id": "9c308c5d-18d2-470d-b001-373a2ed28668",
   "metadata": {},
   "outputs": [
    {
     "name": "stderr",
     "output_type": "stream",
     "text": [
      "Clipping input data to the valid range for imshow with RGB data ([0..1] for floats or [0..255] for integers). Got range [0.0..14.024999999999956].\n"
     ]
    },
    {
     "data": {
      "text/plain": [
       "array([0., 0., 0., ..., 0., 0., 0.])"
      ]
     },
     "execution_count": 118,
     "metadata": {},
     "output_type": "execute_result"
    },
    {
     "data": {
      "image/png": "[encoded data removed]",
      "text/plain": [
       "<Figure size 640x480 with 1 Axes>"
      ]
     },
     "metadata": {},
     "output_type": "display_data"
    }
   ],
   "source": [
    "plt.imshow(np.rot90((WW[1].flatten().reshape(3, 32, 32).T + 1.0)* (255/2), -1))\n",
    "(WW[4] + 1.0)* (255/2)"
   ]
  },
  {
   "cell_type": "code",
   "execution_count": 149,
   "id": "ad7d104e-6c7e-4c5a-b32e-521300b9769c",
   "metadata": {},
   "outputs": [
    {
     "ename": "TypeError",
     "evalue": "sum() got multiple values for argument 'axis'",
     "output_type": "error",
     "traceback": [
      "\u001b[0;31m---------------------------------------------------------------------------\u001b[0m",
      "\u001b[0;31mTypeError\u001b[0m                                 Traceback (most recent call last)",
      "Cell \u001b[0;32mIn[149], line 4\u001b[0m\n\u001b[1;32m      1\u001b[0m train \u001b[38;5;241m=\u001b[39m np\u001b[38;5;241m.\u001b[39marray([[\u001b[38;5;241m1\u001b[39m, \u001b[38;5;241m2\u001b[39m], [\u001b[38;5;241m8\u001b[39m, \u001b[38;5;241m9\u001b[39m]])\n\u001b[1;32m      2\u001b[0m test \u001b[38;5;241m=\u001b[39m np\u001b[38;5;241m.\u001b[39marray([[\u001b[38;5;241m1\u001b[39m, \u001b[38;5;241m1\u001b[39m]])\n\u001b[0;32m----> 4\u001b[0m \u001b[43mnp\u001b[49m\u001b[38;5;241;43m.\u001b[39;49m\u001b[43msum\u001b[49m\u001b[43m(\u001b[49m\u001b[43mtrain\u001b[49m\u001b[43m,\u001b[49m\u001b[43m \u001b[49m\u001b[38;5;241;43m-\u001b[39;49m\u001b[43mtest\u001b[49m\u001b[43m,\u001b[49m\u001b[43m \u001b[49m\u001b[43maxis\u001b[49m\u001b[38;5;241;43m=\u001b[39;49m\u001b[38;5;241;43m1\u001b[39;49m\u001b[43m)\u001b[49m\n",
      "\u001b[0;31mTypeError\u001b[0m: sum() got multiple values for argument 'axis'"
     ]
    }
   ],
   "source": [
    "a = np.array([[1, 2], [8, 9]])\n",
    "b = np.array([[1, 1]])\n",
    "\n",
    "np.sqrt(np.sum(np.pow(a - b, 2), axis = 1)"
   ]
  }
 ],
 "metadata": {
  "kernelspec": {
   "display_name": "Python 3 (ipykernel)",
   "language": "python",
   "name": "python3"
  },
  "language_info": {
   "codemirror_mode": {
    "name": "ipython",
    "version": 3
   },
   "file_extension": ".py",
   "mimetype": "text/x-python",
   "name": "python",
   "nbconvert_exporter": "python",
   "pygments_lexer": "ipython3",
   "version": "3.12.4"
  }
 },
 "nbformat": 4,
 "nbformat_minor": 5
}
