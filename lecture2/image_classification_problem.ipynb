{
 "cells": [
  {
   "cell_type": "code",
   "execution_count": 11,
   "id": "059302f0-648e-4496-b5d0-f09331277f99",
   "metadata": {},
   "outputs": [
    {
     "name": "stdout",
     "output_type": "stream",
     "text": [
      "Collecting numpy\n",
      "  Using cached numpy-2.1.0-cp312-cp312-macosx_11_0_arm64.whl.metadata (60 kB)\n",
      "Using cached numpy-2.1.0-cp312-cp312-macosx_11_0_arm64.whl (13.5 MB)\n",
      "Installing collected packages: numpy\n",
      "Successfully installed numpy-2.1.0\n",
      "\n",
      "\u001b[1m[\u001b[0m\u001b[34;49mnotice\u001b[0m\u001b[1;39;49m]\u001b[0m\u001b[39;49m A new release of pip is available: \u001b[0m\u001b[31;49m24.0\u001b[0m\u001b[39;49m -> \u001b[0m\u001b[32;49m24.2\u001b[0m\n",
      "\u001b[1m[\u001b[0m\u001b[34;49mnotice\u001b[0m\u001b[1;39;49m]\u001b[0m\u001b[39;49m To update, run: \u001b[0m\u001b[32;49mpip install --upgrade pip\u001b[0m\n"
     ]
    }
   ],
   "source": [
    "!pip install numpy"
   ]
  },
  {
   "cell_type": "code",
   "execution_count": 32,
   "id": "75dfad7a-8a54-4a94-ae70-eafeffa22ffe",
   "metadata": {},
   "outputs": [
    {
     "name": "stdout",
     "output_type": "stream",
     "text": [
      "Collecting scikit-image\n",
      "  Downloading scikit_image-0.24.0-cp312-cp312-macosx_12_0_arm64.whl.metadata (14 kB)\n",
      "Requirement already satisfied: numpy>=1.23 in /Users/e.lebedev/personal/cs231n/lib/python3.12/site-packages (from scikit-image) (2.1.0)\n",
      "Collecting scipy>=1.9 (from scikit-image)\n",
      "  Using cached scipy-1.14.0-cp312-cp312-macosx_12_0_arm64.whl.metadata (60 kB)\n",
      "Collecting networkx>=2.8 (from scikit-image)\n",
      "  Downloading networkx-3.3-py3-none-any.whl.metadata (5.1 kB)\n",
      "Collecting pillow>=9.1 (from scikit-image)\n",
      "  Using cached pillow-10.4.0-cp312-cp312-macosx_11_0_arm64.whl.metadata (9.2 kB)\n",
      "Collecting imageio>=2.33 (from scikit-image)\n",
      "  Downloading imageio-2.35.1-py3-none-any.whl.metadata (4.9 kB)\n",
      "Collecting tifffile>=2022.8.12 (from scikit-image)\n",
      "  Downloading tifffile-2024.8.10-py3-none-any.whl.metadata (31 kB)\n",
      "Requirement already satisfied: packaging>=21 in /Users/e.lebedev/personal/cs231n/lib/python3.12/site-packages (from scikit-image) (24.1)\n",
      "Collecting lazy-loader>=0.4 (from scikit-image)\n",
      "  Downloading lazy_loader-0.4-py3-none-any.whl.metadata (7.6 kB)\n",
      "Downloading scikit_image-0.24.0-cp312-cp312-macosx_12_0_arm64.whl (13.4 MB)\n",
      "\u001b[2K   \u001b[38;2;114;156;31m━━━━━━━━━━━━━━━━━━━━━━━━━━━━━━━━━━━━━━━━\u001b[0m \u001b[32m13.4/13.4 MB\u001b[0m \u001b[31m10.5 MB/s\u001b[0m eta \u001b[36m0:00:00\u001b[0mm eta \u001b[36m0:00:01\u001b[0m0:01\u001b[0m:01\u001b[0m\n",
      "\u001b[?25hDownloading imageio-2.35.1-py3-none-any.whl (315 kB)\n",
      "\u001b[2K   \u001b[38;2;114;156;31m━━━━━━━━━━━━━━━━━━━━━━━━━━━━━━━━━━━━━━━━\u001b[0m \u001b[32m315.4/315.4 kB\u001b[0m \u001b[31m9.8 MB/s\u001b[0m eta \u001b[36m0:00:00\u001b[0m\n",
      "\u001b[?25hDownloading lazy_loader-0.4-py3-none-any.whl (12 kB)\n",
      "Downloading networkx-3.3-py3-none-any.whl (1.7 MB)\n",
      "\u001b[2K   \u001b[38;2;114;156;31m━━━━━━━━━━━━━━━━━━━━━━━━━━━━━━━━━━━━━━━━\u001b[0m \u001b[32m1.7/1.7 MB\u001b[0m \u001b[31m11.2 MB/s\u001b[0m eta \u001b[36m0:00:00\u001b[0mm eta \u001b[36m0:00:01\u001b[0m0:01\u001b[0m:01\u001b[0m\n",
      "\u001b[?25hUsing cached pillow-10.4.0-cp312-cp312-macosx_11_0_arm64.whl (3.4 MB)\n",
      "Using cached scipy-1.14.0-cp312-cp312-macosx_12_0_arm64.whl (29.9 MB)\n",
      "Downloading tifffile-2024.8.10-py3-none-any.whl (225 kB)\n",
      "\u001b[2K   \u001b[38;2;114;156;31m━━━━━━━━━━━━━━━━━━━━━━━━━━━━━━━━━━━━━━━━\u001b[0m \u001b[32m225.8/225.8 kB\u001b[0m \u001b[31m9.9 MB/s\u001b[0m eta \u001b[36m0:00:00\u001b[0m\n",
      "\u001b[?25hInstalling collected packages: tifffile, scipy, pillow, networkx, lazy-loader, imageio, scikit-image\n",
      "Successfully installed imageio-2.35.1 lazy-loader-0.4 networkx-3.3 pillow-10.4.0 scikit-image-0.24.0 scipy-1.14.0 tifffile-2024.8.10\n",
      "\n",
      "\u001b[1m[\u001b[0m\u001b[34;49mnotice\u001b[0m\u001b[1;39;49m]\u001b[0m\u001b[39;49m A new release of pip is available: \u001b[0m\u001b[31;49m24.0\u001b[0m\u001b[39;49m -> \u001b[0m\u001b[32;49m24.2\u001b[0m\n",
      "\u001b[1m[\u001b[0m\u001b[34;49mnotice\u001b[0m\u001b[1;39;49m]\u001b[0m\u001b[39;49m To update, run: \u001b[0m\u001b[32;49mpip install --upgrade pip\u001b[0m\n"
     ]
    }
   ],
   "source": [
    "!pip install scikit-image"
   ]
  },
  {
   "cell_type": "code",
   "execution_count": 37,
   "id": "bdd32625-1f82-49c4-b1f3-a0402d697135",
   "metadata": {},
   "outputs": [
    {
     "name": "stdout",
     "output_type": "stream",
     "text": [
      "Collecting matplotlib\n",
      "  Downloading matplotlib-3.9.2-cp312-cp312-macosx_11_0_arm64.whl.metadata (11 kB)\n",
      "Collecting contourpy>=1.0.1 (from matplotlib)\n",
      "  Using cached contourpy-1.2.1-cp312-cp312-macosx_11_0_arm64.whl.metadata (5.8 kB)\n",
      "Collecting cycler>=0.10 (from matplotlib)\n",
      "  Using cached cycler-0.12.1-py3-none-any.whl.metadata (3.8 kB)\n",
      "Collecting fonttools>=4.22.0 (from matplotlib)\n",
      "  Using cached fonttools-4.53.1-cp312-cp312-macosx_11_0_arm64.whl.metadata (162 kB)\n",
      "Collecting kiwisolver>=1.3.1 (from matplotlib)\n",
      "  Using cached kiwisolver-1.4.5-cp312-cp312-macosx_11_0_arm64.whl.metadata (6.4 kB)\n",
      "Requirement already satisfied: numpy>=1.23 in /Users/e.lebedev/personal/cs231n/lib/python3.12/site-packages (from matplotlib) (2.1.0)\n",
      "Requirement already satisfied: packaging>=20.0 in /Users/e.lebedev/personal/cs231n/lib/python3.12/site-packages (from matplotlib) (24.1)\n",
      "Requirement already satisfied: pillow>=8 in /Users/e.lebedev/personal/cs231n/lib/python3.12/site-packages (from matplotlib) (10.4.0)\n",
      "Collecting pyparsing>=2.3.1 (from matplotlib)\n",
      "  Using cached pyparsing-3.1.2-py3-none-any.whl.metadata (5.1 kB)\n",
      "Requirement already satisfied: python-dateutil>=2.7 in /Users/e.lebedev/personal/cs231n/lib/python3.12/site-packages (from matplotlib) (2.9.0.post0)\n",
      "Requirement already satisfied: six>=1.5 in /Users/e.lebedev/personal/cs231n/lib/python3.12/site-packages (from python-dateutil>=2.7->matplotlib) (1.16.0)\n",
      "Downloading matplotlib-3.9.2-cp312-cp312-macosx_11_0_arm64.whl (7.8 MB)\n",
      "\u001b[2K   \u001b[38;2;114;156;31m━━━━━━━━━━━━━━━━━━━━━━━━━━━━━━━━━━━━━━━━\u001b[0m \u001b[32m7.8/7.8 MB\u001b[0m \u001b[31m8.9 MB/s\u001b[0m eta \u001b[36m0:00:00\u001b[0m[36m0:00:01\u001b[0m[36m0:00:01\u001b[0m:01\u001b[0m\n",
      "\u001b[?25hUsing cached contourpy-1.2.1-cp312-cp312-macosx_11_0_arm64.whl (245 kB)\n",
      "Using cached cycler-0.12.1-py3-none-any.whl (8.3 kB)\n",
      "Using cached fonttools-4.53.1-cp312-cp312-macosx_11_0_arm64.whl (2.2 MB)\n",
      "Using cached kiwisolver-1.4.5-cp312-cp312-macosx_11_0_arm64.whl (64 kB)\n",
      "Using cached pyparsing-3.1.2-py3-none-any.whl (103 kB)\n",
      "Installing collected packages: pyparsing, kiwisolver, fonttools, cycler, contourpy, matplotlib\n",
      "Successfully installed contourpy-1.2.1 cycler-0.12.1 fonttools-4.53.1 kiwisolver-1.4.5 matplotlib-3.9.2 pyparsing-3.1.2\n",
      "\n",
      "\u001b[1m[\u001b[0m\u001b[34;49mnotice\u001b[0m\u001b[1;39;49m]\u001b[0m\u001b[39;49m A new release of pip is available: \u001b[0m\u001b[31;49m24.0\u001b[0m\u001b[39;49m -> \u001b[0m\u001b[32;49m24.2\u001b[0m\n",
      "\u001b[1m[\u001b[0m\u001b[34;49mnotice\u001b[0m\u001b[1;39;49m]\u001b[0m\u001b[39;49m To update, run: \u001b[0m\u001b[32;49mpip install --upgrade pip\u001b[0m\n"
     ]
    }
   ],
   "source": [
    "!pip install matplotlib"
   ]
  },
  {
   "cell_type": "code",
   "execution_count": 6,
   "id": "0d7d2ae8-2077-405a-9215-2b7bae75debd",
   "metadata": {},
   "outputs": [
    {
     "name": "stdout",
     "output_type": "stream",
     "text": [
      "batches.meta data_batch_2 data_batch_4 readme.html\n",
      "data_batch_1 data_batch_3 data_batch_5 test_batch\n"
     ]
    }
   ],
   "source": [
    "!ls ../data/cifar-10-batches-py/"
   ]
  },
  {
   "cell_type": "code",
   "execution_count": 41,
   "id": "085a204a-7fee-4306-9481-5d2d5054330b",
   "metadata": {},
   "outputs": [],
   "source": [
    "import numpy as np\n",
    "import skimage as ski\n",
    "import matplotlib.pyplot as plt"
   ]
  },
  {
   "cell_type": "code",
   "execution_count": 12,
   "id": "8f3077a2-40fa-4e75-88fa-e775d2812620",
   "metadata": {},
   "outputs": [],
   "source": [
    "def unpickle(file):\n",
    "    import pickle\n",
    "    with open(file, 'rb') as fo:\n",
    "        dict = pickle.load(fo, encoding='bytes')\n",
    "    return dict"
   ]
  },
  {
   "cell_type": "code",
   "execution_count": 165,
   "id": "f2468e87-e3f8-4911-ba76-3265f70a3efe",
   "metadata": {},
   "outputs": [],
   "source": [
    "data_batch_1 = unpickle('../data/cifar-10-batches-py/data_batch_1')\n",
    "test_batch = unpickle('../data/cifar-10-batches-py/test_batch')"
   ]
  },
  {
   "cell_type": "code",
   "execution_count": 111,
   "id": "4bc50dd8-d5ea-4346-927a-196277c95941",
   "metadata": {},
   "outputs": [
    {
     "data": {
      "text/plain": [
       "{b'num_cases_per_batch': 10000,\n",
       " b'label_names': [b'airplane',\n",
       "  b'automobile',\n",
       "  b'bird',\n",
       "  b'cat',\n",
       "  b'deer',\n",
       "  b'dog',\n",
       "  b'frog',\n",
       "  b'horse',\n",
       "  b'ship',\n",
       "  b'truck'],\n",
       " b'num_vis': 3072}"
      ]
     },
     "execution_count": 111,
     "metadata": {},
     "output_type": "execute_result"
    }
   ],
   "source": [
    "meta = unpickle('../data/cifar-10-batches-py/batches.meta')\n",
    "meta"
   ]
  },
  {
   "cell_type": "code",
   "execution_count": 112,
   "id": "a84460ba-83e4-493d-a426-5cebe154a074",
   "metadata": {},
   "outputs": [
    {
     "data": {
      "text/plain": [
       "b'frog'"
      ]
     },
     "execution_count": 112,
     "metadata": {},
     "output_type": "execute_result"
    }
   ],
   "source": [
    "meta[b'label_names'][data_batch_1[b'labels'][0]]"
   ]
  },
  {
   "cell_type": "code",
   "execution_count": 121,
   "id": "d676ba7f-bafd-47dc-90c9-822ef827e36c",
   "metadata": {},
   "outputs": [],
   "source": [
    "# imgs = data_batch_1[b'data'].reshape(data_batch_1[b'data'].shape[0], 32, 32, 3)\n",
    "# print(imgs[0].shape)\n",
    "# plt.imshow(np.rot90(imgs[0].flatten().reshape(3, 32, 32).T, -1))\n",
    "\n",
    "def to_img_repr(data_batch):\n",
    "    # data_batch[b'data'].shape = (10000, 3072)\n",
    "    imgs = data_batch[b'data'].reshape(data_batch[b'data'].shape[0], 32, 32, 3)\n",
    "    # imgs[0].shape = (32, 32, 3)\n",
    "    def f(img):\n",
    "        return np.rot90(img.flatten().reshape(3, 32, 32).T, -1)\n",
    "    return np.array(list(map(f, imgs)))\n",
    "\n",
    "def to_img_repr_mut(data_batch):\n",
    "    # data_batch[b'data'].shape = (10000, 3072)\n",
    "    imgs = data_batch[b'data'].reshape(data_batch[b'data'].shape[0], 32, 32, 3)\n",
    "    # imgs[0].shape = (32, 32, 3)\n",
    "\n",
    "    for i in range(imgs.shape[0]):\n",
    "        imgs[i] = np.rot90(imgs[i].flatten().reshape(3, 32, 32).T, -1)\n",
    "    return imgs"
   ]
  },
  {
   "cell_type": "code",
   "execution_count": 67,
   "id": "cb6fb97f-e19e-4b1b-9b8d-1df1c30f603d",
   "metadata": {},
   "outputs": [
    {
     "name": "stdout",
     "output_type": "stream",
     "text": [
      "[59 43 50]\n",
      "[ 59  43  50  68  98 119 139 145 149 149 131 125 142 144 137 129 137 134\n",
      " 124 139 139 133 136 139 152 163 168 159 158 158 152 148]\n",
      "407859\n"
     ]
    },
    {
     "data": {
      "text/plain": [
       "np.uint64(407859)"
      ]
     },
     "execution_count": 67,
     "metadata": {},
     "output_type": "execute_result"
    },
    {
     "data": {
      "image/png": "[encoded data removed]",
      "text/plain": [
       "<Figure size 640x480 with 1 Axes>"
      ]
     },
     "metadata": {},
     "output_type": "display_data"
    }
   ],
   "source": [
    "img = imgs[0].copy()\n",
    "#img = np.transpose(img.flatten().reshape(3,32,32))\n",
    "print(img[0][0])\n",
    "print(img.flatten().reshape(3,32,32)[0][0])\n",
    "img = np.fliplr(np.rot90(np.transpose(img.flatten().reshape(3,32,32)), k=-1))\n",
    "plt.imshow(img)\n",
    "\n",
    "img2 = imgs[1].copy()\n",
    "img2 = np.fliplr(np.rot90(np.transpose(img2.flatten().reshape(3,32,32)), k=-1))\n",
    "plt.imshow(img2)\n",
    "\n",
    "\n",
    "np.sum(np.abs(img - img2))"
   ]
  },
  {
   "cell_type": "code",
   "execution_count": 199,
   "id": "37c195e1-2f38-48db-b858-143af42c3410",
   "metadata": {},
   "outputs": [
    {
     "name": "stdout",
     "output_type": "stream",
     "text": [
      "ind1:0, ind2:0\n",
      "b'airplane'\n"
     ]
    },
    {
     "data": {
      "text/plain": [
       "<matplotlib.image.AxesImage at 0x15767a300>"
      ]
     },
     "execution_count": 199,
     "metadata": {},
     "output_type": "execute_result"
    },
    {
     "data": {
      "image/png": "[encoded data removed]",
      "text/plain": [
       "<Figure size 640x480 with 1 Axes>"
      ]
     },
     "metadata": {},
     "output_type": "display_data"
    }
   ],
   "source": [
    "class NNeighbour:\n",
    "    def train(self, xT, yT):\n",
    "        self.xT = xT\n",
    "        self.yT = yT\n",
    "    def predict(self, x):\n",
    "        vv = np.tile(np.array(x), (self.xT.shape[0], 1, 1, 1))\n",
    "        ind = np.argmin(np.sum(np.abs(self.xT - vv), axis=(1, 2, 3)))\n",
    "        return self.yT[ind]\n",
    "        \n",
    "    def predict2(self, x):\n",
    "        res = []\n",
    "        for i in range(self.xT.shape[0]):\n",
    "            res.append(np.sum(np.abs(self.xT[i] - x)))\n",
    "        ind = np.argmin(res)\n",
    "        return self.yT[ind]\n",
    "\n",
    "\n",
    "nn = NNeighbour()\n",
    "nn.train(to_img_repr(data_batch_1), data_batch_1[b'labels'])\n",
    "test_imgs = to_img_repr(test_batch)\n",
    "test_img = test_imgs[3]\n",
    "ind = nn.predict(test_img)\n",
    "ind2 = nn.predict2(test_img)\n",
    "\n",
    "print(f'ind1:{ind}, ind2:{ind2}')\n",
    "print(meta[b'label_names'][ind])\n",
    "\n",
    "\n",
    "# print(test_batch[b'labels'])\n",
    "\n",
    "plt.imshow(test_img)"
   ]
  },
  {
   "cell_type": "code",
   "execution_count": 122,
   "id": "27efc7b9-c08f-4220-bc0f-848b33fac15a",
   "metadata": {},
   "outputs": [
    {
     "name": "stdout",
     "output_type": "stream",
     "text": [
      "Collecting memory_profiler\n",
      "  Downloading memory_profiler-0.61.0-py3-none-any.whl.metadata (20 kB)\n",
      "Requirement already satisfied: psutil in /Users/e.lebedev/personal/cs231n/lib/python3.12/site-packages (from memory_profiler) (6.0.0)\n",
      "Downloading memory_profiler-0.61.0-py3-none-any.whl (31 kB)\n",
      "Installing collected packages: memory_profiler\n",
      "Successfully installed memory_profiler-0.61.0\n",
      "\n",
      "\u001b[1m[\u001b[0m\u001b[34;49mnotice\u001b[0m\u001b[1;39;49m]\u001b[0m\u001b[39;49m A new release of pip is available: \u001b[0m\u001b[31;49m24.0\u001b[0m\u001b[39;49m -> \u001b[0m\u001b[32;49m24.2\u001b[0m\n",
      "\u001b[1m[\u001b[0m\u001b[34;49mnotice\u001b[0m\u001b[1;39;49m]\u001b[0m\u001b[39;49m To update, run: \u001b[0m\u001b[32;49mpip install --upgrade pip\u001b[0m\n"
     ]
    }
   ],
   "source": [
    "!pip install memory_profiler"
   ]
  },
  {
   "cell_type": "code",
   "execution_count": 123,
   "id": "c7707192-2d80-4cdf-ac7e-35cfcf8198b2",
   "metadata": {},
   "outputs": [
    {
     "name": "stdout",
     "output_type": "stream",
     "text": [
      "f1 Execution time: 0.7444889545440674 seconds\n",
      "f1 Memory usage: 13.953125 MiB\n",
      "f2 Execution time: 0.60941481590271 seconds\n",
      "f2 Memory usage: 0.296875 MiB\n"
     ]
    }
   ],
   "source": [
    "import time\n",
    "from memory_profiler import memory_usage\n",
    "\n",
    "def f1():\n",
    "    to_img_repr(data_batch_1)\n",
    "\n",
    "def f2():\n",
    "    to_img_repr_mut(data_batch_1)\n",
    "\n",
    "# Measure time\n",
    "start_time = time.time()\n",
    "mem_usage = memory_usage((f1,))\n",
    "end_time = time.time()\n",
    "\n",
    "print(f\"f1 Execution time: {end_time - start_time} seconds\")\n",
    "print(f\"f1 Memory usage: {max(mem_usage) - min(mem_usage)} MiB\")\n",
    "\n",
    "start_time = time.time()\n",
    "mem_usage = memory_usage((f2,))\n",
    "end_time = time.time()\n",
    "\n",
    "print(f\"f2 Execution time: {end_time - start_time} seconds\")\n",
    "print(f\"f2 Memory usage: {max(mem_usage) - min(mem_usage)} MiB\")"
   ]
  },
  {
   "cell_type": "code",
   "execution_count": 200,
   "id": "21bb31b0-4f7c-4985-a236-c85c489ebc57",
   "metadata": {},
   "outputs": [
    {
     "name": "stdout",
     "output_type": "stream",
     "text": [
      "0 of 10000\n",
      "1000 of 10000\n",
      "2000 of 10000\n",
      "3000 of 10000\n",
      "4000 of 10000\n",
      "5000 of 10000\n",
      "6000 of 10000\n",
      "7000 of 10000\n",
      "8000 of 10000\n",
      "9000 of 10000\n",
      "0.7824\n"
     ]
    }
   ],
   "source": [
    "nn = NNeighbour()\n",
    "nn.train(to_img_repr(data_batch_1), data_batch_1[b'labels'])\n",
    "test_imgs = to_img_repr(test_batch)\n",
    "res = 0\n",
    "for i in range(test_imgs.shape[0]):\n",
    "    if i % 1000 == 0:\n",
    "        print(f'{i} of {test_imgs.shape[0]}')\n",
    "    ind = nn.predict(test_imgs[i])\n",
    "    exp = test_batch[b'labels'][i]\n",
    "    if ind != exp:\n",
    "        res += 1\n",
    "print(res/test_imgs.shape[0])\n"
   ]
  },
  {
   "cell_type": "markdown",
   "id": "f0e0b855-5775-4d4b-8469-cc0b9fee7626",
   "metadata": {},
   "source": []
  }
 ],
 "metadata": {
  "kernelspec": {
   "display_name": "Python 3 (ipykernel)",
   "language": "python",
   "name": "python3"
  },
  "language_info": {
   "codemirror_mode": {
    "name": "ipython",
    "version": 3
   },
   "file_extension": ".py",
   "mimetype": "text/x-python",
   "name": "python",
   "nbconvert_exporter": "python",
   "pygments_lexer": "ipython3",
   "version": "3.12.4"
  }
 },
 "nbformat": 4,
 "nbformat_minor": 5
}
